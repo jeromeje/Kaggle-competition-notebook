{
 "cells": [
  {
   "cell_type": "code",
   "execution_count": 1,
   "id": "818b1a5f",
   "metadata": {
    "_cell_guid": "b1076dfc-b9ad-4769-8c92-a6c4dae69d19",
    "_uuid": "8f2839f25d086af736a60e9eeb907d3b93b6e0e5",
    "execution": {
     "iopub.execute_input": "2025-01-18T01:20:27.761113Z",
     "iopub.status.busy": "2025-01-18T01:20:27.760756Z",
     "iopub.status.idle": "2025-01-18T01:20:28.798434Z",
     "shell.execute_reply": "2025-01-18T01:20:28.797129Z"
    },
    "papermill": {
     "duration": 1.043775,
     "end_time": "2025-01-18T01:20:28.800173",
     "exception": false,
     "start_time": "2025-01-18T01:20:27.756398",
     "status": "completed"
    },
    "tags": []
   },
   "outputs": [
    {
     "name": "stdout",
     "output_type": "stream",
     "text": [
      "/kaggle/input/playground-series-s5e1/sample_submission.csv\n",
      "/kaggle/input/playground-series-s5e1/train.csv\n",
      "/kaggle/input/playground-series-s5e1/test.csv\n"
     ]
    }
   ],
   "source": [
    "# This Python 3 environment comes with many helpful analytics libraries installed\n",
    "# It is defined by the kaggle/python Docker image: https://github.com/kaggle/docker-python\n",
    "# For example, here's several helpful packages to load\n",
    "\n",
    "import numpy as np # linear algebra\n",
    "import pandas as pd # data processing, CSV file I/O (e.g. pd.read_csv)\n",
    "\n",
    "# Input data files are available in the read-only \"../input/\" directory\n",
    "# For example, running this (by clicking run or pressing Shift+Enter) will list all files under the input directory\n",
    "\n",
    "import os\n",
    "for dirname, _, filenames in os.walk('/kaggle/input'):\n",
    "    for filename in filenames:\n",
    "        print(os.path.join(dirname, filename))\n",
    "\n",
    "# You can write up to 20GB to the current directory (/kaggle/working/) that gets preserved as output when you create a version using \"Save & Run All\" \n",
    "# You can also write temporary files to /kaggle/temp/, but they won't be saved outside of the current session"
   ]
  },
  {
   "cell_type": "markdown",
   "id": "20c78e81",
   "metadata": {
    "papermill": {
     "duration": 0.001925,
     "end_time": "2025-01-18T01:20:28.805054",
     "exception": false,
     "start_time": "2025-01-18T01:20:28.803129",
     "status": "completed"
    },
    "tags": []
   },
   "source": [
    "#  **1. Training the model with train.csv dataset**"
   ]
  },
  {
   "cell_type": "code",
   "execution_count": 2,
   "id": "c4a8ba32",
   "metadata": {
    "execution": {
     "iopub.execute_input": "2025-01-18T01:20:28.810762Z",
     "iopub.status.busy": "2025-01-18T01:20:28.810218Z",
     "iopub.status.idle": "2025-01-18T01:21:32.951763Z",
     "shell.execute_reply": "2025-01-18T01:21:32.950513Z"
    },
    "papermill": {
     "duration": 64.14861,
     "end_time": "2025-01-18T01:21:32.955775",
     "exception": false,
     "start_time": "2025-01-18T01:20:28.807165",
     "status": "completed"
    },
    "tags": []
   },
   "outputs": [
    {
     "name": "stdout",
     "output_type": "stream",
     "text": [
      "                   Model            MSE  R-squared\n",
      "0  RandomForestRegressor    4569.001435   0.990441\n",
      "1       LinearRegression  438352.629862   0.082862\n",
      "2  DecisionTreeRegressor    7760.174659   0.983764\n",
      "\n",
      "Best model based on MSE:\n",
      "Model        RandomForestRegressor\n",
      "MSE                    4569.001435\n",
      "R-squared                 0.990441\n",
      "Name: 0, dtype: object\n"
     ]
    }
   ],
   "source": [
    "\n",
    "import pandas as pd\n",
    "import numpy as np\n",
    "from sklearn.preprocessing import LabelEncoder\n",
    "import seaborn as sns\n",
    "import matplotlib.pyplot as plt\n",
    "from sklearn.model_selection import train_test_split\n",
    "from sklearn.ensemble import RandomForestRegressor\n",
    "from sklearn.metrics import mean_squared_error\n",
    "from sklearn.linear_model import LinearRegression\n",
    "from sklearn.tree import DecisionTreeRegressor\n",
    "from sklearn.metrics import mean_squared_error, r2_score\n",
    "\n",
    "\n",
    "# ## 1. import libray and dataset\n",
    "\n",
    "df = pd.read_csv('/kaggle/input/playground-series-s5e1/train.csv')\n",
    "\n",
    "\n",
    "\n",
    "# Drop rows with missing values in 'num_sold'\n",
    "df.dropna(subset=['num_sold'], inplace=True)\n",
    "\n",
    "# Convert 'date' column to datetime objects\n",
    "df['date'] = pd.to_datetime(df['date'])\n",
    "\n",
    "# Extract year, month, and day into separate columns\n",
    "df['year'] = df['date'].dt.year\n",
    "df['month'] = df['date'].dt.month\n",
    "df['day'] = df['date'].dt.day\n",
    "df['dayofweek'] = df['date'].dt.dayofweek\n",
    "df['weekofyear'] = df['date'].dt.isocalendar().week\n",
    "\n",
    "# Drop the original 'date' column\n",
    "df = df.drop('date', axis=1)\n",
    "\n",
    "# Initialize LabelEncoder\n",
    "le = LabelEncoder()\n",
    "\n",
    "# List of columns to label encode\n",
    "categorical_cols = ['store', 'country','product']  # Add other categorical columns as needed\n",
    "\n",
    "# Apply Label Encoding to specified columns\n",
    "for col in categorical_cols:\n",
    "    df[col] = le.fit_transform(df[col])\n",
    "\n",
    "df=df[['id','year', 'month', 'day', 'dayofweek', 'weekofyear', 'country', 'store', 'product', 'num_sold' ]]\n",
    "\n",
    "# Split the data into features (X) and target (y)\n",
    "X = df.drop(['num_sold', 'id'], axis=1)  # Exclude 'num_sold' and 'id'\n",
    "y = df['num_sold']\n",
    "\n",
    "# Split the data into training and testing sets\n",
    "X_train, X_test, y_train, y_test = train_test_split(X, y, test_size=0.2, random_state=42)\n",
    "\n",
    "# Initialize and train the models\n",
    "models = {\n",
    "    'RandomForestRegressor': RandomForestRegressor(random_state=42),\n",
    "    'LinearRegression': LinearRegression(),\n",
    "    'DecisionTreeRegressor': DecisionTreeRegressor(random_state=42)\n",
    "}\n",
    "\n",
    "results = {}\n",
    "\n",
    "for name, model in models.items():\n",
    "    model.fit(X_train, y_train)\n",
    "    y_pred = model.predict(X_test)\n",
    "\n",
    "    mse = mean_squared_error(y_test, y_pred)\n",
    "    r2 = r2_score(y_test, y_pred)\n",
    "\n",
    "    results[name] = {'MSE': mse, 'R-squared': r2}\n",
    "\n",
    "# Create a DataFrame for results\n",
    "results_df = pd.DataFrame(results).T.reset_index()\n",
    "results_df.columns = ['Model', 'MSE', 'R-squared']\n",
    "\n",
    "# Print the results\n",
    "print(results_df)\n",
    "\n",
    "# Determine the best model based on MSE (lower is better)\n",
    "best_model = results_df.loc[results_df['MSE'].idxmin()]\n",
    "print(f'\\nBest model based on MSE:\\n{best_model}')\n",
    "\n"
   ]
  },
  {
   "cell_type": "markdown",
   "id": "905d5c42",
   "metadata": {
    "papermill": {
     "duration": 0.001988,
     "end_time": "2025-01-18T01:21:32.960236",
     "exception": false,
     "start_time": "2025-01-18T01:21:32.958248",
     "status": "completed"
    },
    "tags": []
   },
   "source": [
    "# 2. Testing the new test.csv with the above model\n"
   ]
  },
  {
   "cell_type": "code",
   "execution_count": 3,
   "id": "d2356d18",
   "metadata": {
    "execution": {
     "iopub.execute_input": "2025-01-18T01:21:32.966084Z",
     "iopub.status.busy": "2025-01-18T01:21:32.965689Z",
     "iopub.status.idle": "2025-01-18T01:21:34.221013Z",
     "shell.execute_reply": "2025-01-18T01:21:34.220089Z"
    },
    "papermill": {
     "duration": 1.260442,
     "end_time": "2025-01-18T01:21:34.222911",
     "exception": false,
     "start_time": "2025-01-18T01:21:32.962469",
     "status": "completed"
    },
    "tags": []
   },
   "outputs": [],
   "source": [
    "# prompt: decision tree modle fit and precit the df_test = pd.read_csv('/content/test.csv') \n",
    "\n",
    "import pandas as pd\n",
    "import numpy as np\n",
    "from sklearn.preprocessing import LabelEncoder\n",
    "from sklearn.tree import DecisionTreeRegressor\n",
    "\n",
    "# Load the test dataset\n",
    "df_test = pd.read_csv('/kaggle/input/playground-series-s5e1/test.csv')\n",
    "\n",
    "# Preprocess the test data (mimicking the training data preprocessing)\n",
    "df_test['date'] = pd.to_datetime(df_test['date'])\n",
    "df_test['year'] = df_test['date'].dt.year\n",
    "df_test['month'] = df_test['date'].dt.month\n",
    "df_test['day'] = df_test['date'].dt.day\n",
    "df_test['dayofweek'] = df_test['date'].dt.dayofweek\n",
    "df_test['weekofyear'] = df_test['date'].dt.isocalendar().week\n",
    "df_test = df_test.drop('date', axis=1)\n",
    "\n",
    "le = LabelEncoder()\n",
    "categorical_cols = ['store', 'country', 'product']\n",
    "for col in categorical_cols:\n",
    "    df_test[col] = le.fit_transform(df_test[col])\n",
    "\n",
    "df_test = df_test[['id', 'year', 'month', 'day', 'dayofweek', 'weekofyear', 'country', 'store', 'product']]\n",
    "\n",
    "# Use the best model (DecisionTreeRegressor in this case)\n",
    "# Assuming 'X_train', 'y_train' from your training code\n",
    "model = DecisionTreeRegressor(random_state=42)\n",
    "model.fit(X_train, y_train)\n",
    "\n",
    "# Make predictions on the test data\n",
    "predictions = model.predict(df_test.drop('id', axis = 1))\n",
    "\n",
    "# Create a DataFrame for submission\n",
    "submission_df = pd.DataFrame({'id': df_test['id'], 'num_sold': predictions})\n",
    "\n",
    "# Save predictions to a CSV file\n",
    "submission_df.to_csv('submission.csv', index=False)"
   ]
  },
  {
   "cell_type": "code",
   "execution_count": null,
   "id": "e64bd155",
   "metadata": {
    "papermill": {
     "duration": 0.00211,
     "end_time": "2025-01-18T01:21:34.227558",
     "exception": false,
     "start_time": "2025-01-18T01:21:34.225448",
     "status": "completed"
    },
    "tags": []
   },
   "outputs": [],
   "source": []
  }
 ],
 "metadata": {
  "kaggle": {
   "accelerator": "none",
   "dataSources": [
    {
     "databundleVersionId": 10652996,
     "sourceId": 85723,
     "sourceType": "competition"
    }
   ],
   "dockerImageVersionId": 30839,
   "isGpuEnabled": false,
   "isInternetEnabled": false,
   "language": "python",
   "sourceType": "notebook"
  },
  "kernelspec": {
   "display_name": "Python 3",
   "language": "python",
   "name": "python3"
  },
  "language_info": {
   "codemirror_mode": {
    "name": "ipython",
    "version": 3
   },
   "file_extension": ".py",
   "mimetype": "text/x-python",
   "name": "python",
   "nbconvert_exporter": "python",
   "pygments_lexer": "ipython3",
   "version": "3.10.12"
  },
  "papermill": {
   "default_parameters": {},
   "duration": 70.999648,
   "end_time": "2025-01-18T01:21:35.152661",
   "environment_variables": {},
   "exception": null,
   "input_path": "__notebook__.ipynb",
   "output_path": "__notebook__.ipynb",
   "parameters": {},
   "start_time": "2025-01-18T01:20:24.153013",
   "version": "2.6.0"
  }
 },
 "nbformat": 4,
 "nbformat_minor": 5
}
